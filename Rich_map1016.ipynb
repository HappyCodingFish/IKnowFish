{
  "nbformat": 4,
  "nbformat_minor": 0,
  "metadata": {
    "colab": {
      "provenance": [],
      "collapsed_sections": []
    },
    "kernelspec": {
      "name": "python3",
      "display_name": "Python 3"
    },
    "language_info": {
      "name": "python"
    }
  },
  "cells": [
    {
      "cell_type": "markdown",
      "source": [
        "###基本步驟"
      ],
      "metadata": {
        "id": "jfEFXfgbQfm1"
      }
    },
    {
      "cell_type": "code",
      "execution_count": null,
      "metadata": {
        "id": "plQPW1NhMkM7",
        "colab": {
          "base_uri": "https://localhost:8080/"
        },
        "outputId": "99c5094f-e5ed-4d8c-a559-80732e88c2df"
      },
      "outputs": [
        {
          "output_type": "stream",
          "name": "stdout",
          "text": [
            "Drive already mounted at /content/drive; to attempt to forcibly remount, call drive.mount(\"/content/drive\", force_remount=True).\n"
          ]
        }
      ],
      "source": [
        "# 連接Google Drive\n",
        "from google.colab import drive\n",
        "drive.mount('/content/drive')"
      ]
    },
    {
      "cell_type": "code",
      "source": [
        "# 安裝套件\n",
        "!pip install line-bot-sdk flask flask-ngrok pyngrok"
      ],
      "metadata": {
        "id": "il2_3PeuN0Ip",
        "colab": {
          "base_uri": "https://localhost:8080/"
        },
        "outputId": "793ec64c-7e3f-4391-d2cf-162d65ee9ec8"
      },
      "execution_count": null,
      "outputs": [
        {
          "output_type": "stream",
          "name": "stdout",
          "text": [
            "Looking in indexes: https://pypi.org/simple, https://us-python.pkg.dev/colab-wheels/public/simple/\n",
            "Requirement already satisfied: line-bot-sdk in /usr/local/lib/python3.7/dist-packages (2.3.0)\n",
            "Requirement already satisfied: flask in /usr/local/lib/python3.7/dist-packages (1.1.4)\n",
            "Requirement already satisfied: flask-ngrok in /usr/local/lib/python3.7/dist-packages (0.0.25)\n",
            "Requirement already satisfied: pyngrok in /usr/local/lib/python3.7/dist-packages (5.1.0)\n",
            "Requirement already satisfied: future in /usr/local/lib/python3.7/dist-packages (from line-bot-sdk) (0.16.0)\n",
            "Requirement already satisfied: aiohttp>=3.7.4 in /usr/local/lib/python3.7/dist-packages (from line-bot-sdk) (3.8.3)\n",
            "Requirement already satisfied: requests>=2.0 in /usr/local/lib/python3.7/dist-packages (from line-bot-sdk) (2.23.0)\n",
            "Requirement already satisfied: charset-normalizer<3.0,>=2.0 in /usr/local/lib/python3.7/dist-packages (from aiohttp>=3.7.4->line-bot-sdk) (2.1.1)\n",
            "Requirement already satisfied: async-timeout<5.0,>=4.0.0a3 in /usr/local/lib/python3.7/dist-packages (from aiohttp>=3.7.4->line-bot-sdk) (4.0.2)\n",
            "Requirement already satisfied: frozenlist>=1.1.1 in /usr/local/lib/python3.7/dist-packages (from aiohttp>=3.7.4->line-bot-sdk) (1.3.1)\n",
            "Requirement already satisfied: yarl<2.0,>=1.0 in /usr/local/lib/python3.7/dist-packages (from aiohttp>=3.7.4->line-bot-sdk) (1.8.1)\n",
            "Requirement already satisfied: aiosignal>=1.1.2 in /usr/local/lib/python3.7/dist-packages (from aiohttp>=3.7.4->line-bot-sdk) (1.2.0)\n",
            "Requirement already satisfied: attrs>=17.3.0 in /usr/local/lib/python3.7/dist-packages (from aiohttp>=3.7.4->line-bot-sdk) (22.1.0)\n",
            "Requirement already satisfied: typing-extensions>=3.7.4 in /usr/local/lib/python3.7/dist-packages (from aiohttp>=3.7.4->line-bot-sdk) (4.1.1)\n",
            "Requirement already satisfied: multidict<7.0,>=4.5 in /usr/local/lib/python3.7/dist-packages (from aiohttp>=3.7.4->line-bot-sdk) (6.0.2)\n",
            "Requirement already satisfied: asynctest==0.13.0 in /usr/local/lib/python3.7/dist-packages (from aiohttp>=3.7.4->line-bot-sdk) (0.13.0)\n",
            "Requirement already satisfied: urllib3!=1.25.0,!=1.25.1,<1.26,>=1.21.1 in /usr/local/lib/python3.7/dist-packages (from requests>=2.0->line-bot-sdk) (1.24.3)\n",
            "Requirement already satisfied: certifi>=2017.4.17 in /usr/local/lib/python3.7/dist-packages (from requests>=2.0->line-bot-sdk) (2022.9.24)\n",
            "Requirement already satisfied: chardet<4,>=3.0.2 in /usr/local/lib/python3.7/dist-packages (from requests>=2.0->line-bot-sdk) (3.0.4)\n",
            "Requirement already satisfied: idna<3,>=2.5 in /usr/local/lib/python3.7/dist-packages (from requests>=2.0->line-bot-sdk) (2.10)\n",
            "Requirement already satisfied: Jinja2<3.0,>=2.10.1 in /usr/local/lib/python3.7/dist-packages (from flask) (2.11.3)\n",
            "Requirement already satisfied: Werkzeug<2.0,>=0.15 in /usr/local/lib/python3.7/dist-packages (from flask) (1.0.1)\n",
            "Requirement already satisfied: click<8.0,>=5.1 in /usr/local/lib/python3.7/dist-packages (from flask) (7.1.2)\n",
            "Requirement already satisfied: itsdangerous<2.0,>=0.24 in /usr/local/lib/python3.7/dist-packages (from flask) (1.1.0)\n",
            "Requirement already satisfied: MarkupSafe>=0.23 in /usr/local/lib/python3.7/dist-packages (from Jinja2<3.0,>=2.10.1->flask) (2.0.1)\n",
            "Requirement already satisfied: PyYAML in /usr/local/lib/python3.7/dist-packages (from pyngrok) (6.0)\n"
          ]
        }
      ]
    },
    {
      "cell_type": "code",
      "source": [
        "# 引用Web Server套件\n",
        "from flask import Flask, request, abort, jsonify\n",
        "\n",
        "# 載入json處理套件\n",
        "import json\n",
        "\n",
        "# 外部連結自動生成套件\n",
        "from flask_ngrok import run_with_ngrok\n",
        "\n",
        "# 從linebot 套件包裡引用 LineBotApi 與 WebhookHandler 類別\n",
        "from linebot import (\n",
        "    LineBotApi, WebhookHandler\n",
        ")\n",
        "# 引用無效簽章錯誤\n",
        "from linebot.exceptions import (\n",
        "    InvalidSignatureError\n",
        ")"
      ],
      "metadata": {
        "id": "a02WP4eIN2Cd"
      },
      "execution_count": null,
      "outputs": []
    },
    {
      "cell_type": "code",
      "source": [
        "# 設定Server啟用細節\n",
        "app = Flask(__name__,static_url_path = \"/material\" , static_folder = \"./material/\")\n",
        "run_with_ngrok(app)\n",
        "\n",
        "# 生成實體物件\n",
        "line_bot_api = LineBotApi(\"Mi4JsyDs+dGNuZPFlm7SqmlM2YTE0xxDkm8vkRolkSFrA9E2JQQfQKU1hUfayQhk1Po5iOrCCwV3XdwWPxKQH/JwGHxNG4y4qjjc7iLItABk0uTW+KSB/GyHKDoeQyrIE7zzw0jodQpP6Wm3R1BrFgdB04t89/1O/w1cDnyilFU=\")\n",
        "handler = WebhookHandler(\"8259df02f27ce24a385057e93d26655f\")"
      ],
      "metadata": {
        "id": "A3Sqa9CfN3do"
      },
      "execution_count": null,
      "outputs": []
    },
    {
      "cell_type": "code",
      "source": [
        "# 啟動server對外接口，使Line能丟消息進來\n",
        "@app.route(\"/\", methods=['POST'])\n",
        "def callback():\n",
        "    # get X-Line-Signature header value\n",
        "    signature = request.headers['X-Line-Signature']\n",
        "\n",
        "    # get request body as text\n",
        "    body = request.get_data(as_text=True)\n",
        "    app.logger.info(\"Request body:\" + body)\n",
        "    print(body)\n",
        "\n",
        "    # 記錄用戶log\n",
        "    f = open(\"/content/drive/MyDrive/ai-event.log\", \"a\")\n",
        "    f.write(body)\n",
        "    f.close()\n",
        "\n",
        "    # handle webhook body\n",
        "    try:\n",
        "        handler.handle(body, signature)\n",
        "    except InvalidSignatureError:\n",
        "        abort(400)\n",
        "\n",
        "    return 'OK'"
      ],
      "metadata": {
        "id": "Umb2eKtqN37R"
      },
      "execution_count": null,
      "outputs": []
    },
    {
      "cell_type": "markdown",
      "source": [
        "###Rich Menu 設置"
      ],
      "metadata": {
        "id": "2rXjS-jGQkSz"
      }
    },
    {
      "cell_type": "code",
      "source": [
        "# 載入linebot.models\n",
        "from linebot.models import *\n",
        "import requests\n",
        "\n",
        "#設定Rich Menu大小、位置及功能\n",
        "rich_menu = RichMenu(\n",
        "    size=RichMenuSize(width=2500, height=833),\n",
        "    selected=False,\n",
        "    name=\"Nice richmenu\",\n",
        "    chat_bar_text=\"Tap here\",\n",
        "    areas =[\n",
        "        RichMenuArea(\n",
        "            bounds=RichMenuBounds(x=0, y=0, width=833, height=554),\n",
        "            action=MessageAction(label=\"情境互動\", text=\"開啟情境互動任務\")),\n",
        "        RichMenuArea(\n",
        "            bounds=RichMenuBounds(x=834, y=0, width=833, height=554),\n",
        "            action=URIAction(label='魚類辨識', uri='https://line.me/R/nv/camera/')),\n",
        "        RichMenuArea(\n",
        "            bounds=RichMenuBounds(x=1667, y=0, width=833, height=554),\n",
        "            action=URIAction(\n",
        "                label='打開地圖', \n",
        "                uri='https://www.nmmst.gov.tw/chhtml/content/312')),\n",
        "        RichMenuArea(\n",
        "            bounds=RichMenuBounds(x=0, y=554, width=2500, height=277),\n",
        "            action=PostbackAction(\n",
        "                label='其他資訊',\n",
        "                data=\"rich_menu_others\"\n",
        "            ))\n",
        "        ]\n",
        ")"
      ],
      "metadata": {
        "id": "KtVHVmr_QokY"
      },
      "execution_count": null,
      "outputs": []
    },
    {
      "cell_type": "code",
      "source": [
        "# 取得該Rich Menu的id\n",
        "\n",
        "rich_menu_default_id = line_bot_api.create_rich_menu(rich_menu=rich_menu)\n",
        "print(rich_menu_default_id)"
      ],
      "metadata": {
        "id": "dYU9_fhDQ67a",
        "colab": {
          "base_uri": "https://localhost:8080/"
        },
        "outputId": "ab9ca8a0-3271-407d-8e58-4b5ebca47b33"
      },
      "execution_count": null,
      "outputs": [
        {
          "output_type": "stream",
          "name": "stdout",
          "text": [
            "richmenu-cb3d8bcbea12cdcd31bc1dd63131f24c\n",
            "richmenu-7b30908a516f64d31ed090db4edd89bf\n"
          ]
        }
      ]
    },
    {
      "cell_type": "code",
      "source": [
        "%cd /content/drive/MyDrive/"
      ],
      "metadata": {
        "id": "PYYr7IxqMUip",
        "colab": {
          "base_uri": "https://localhost:8080/"
        },
        "outputId": "633bd774-d207-474c-e029-2b930eb8ec99"
      },
      "execution_count": null,
      "outputs": [
        {
          "output_type": "stream",
          "name": "stdout",
          "text": [
            "/content/drive/MyDrive\n",
            "/content/drive/MyDrive\n"
          ]
        }
      ]
    },
    {
      "cell_type": "code",
      "source": [
        "# 將特定的Rich Menu(用id來指定要哪個)與想要的圖片綁在一起\n",
        "import os \n",
        "if not os.path.exists('/團體專題Linebot/'):\n",
        "    os.makedirs('/團體專題Linebot/')\n",
        "\n",
        "with open(\"/content/drive/MyDrive/團體專題Linebot/Rich_Menu2_v2.png\", 'rb') as f:\n",
        "    line_bot_api.set_rich_menu_image(rich_menu_default_id, \"image/jpeg\", f)"
      ],
      "metadata": {
        "id": "XTKzz4FSRJNn"
      },
      "execution_count": null,
      "outputs": []
    },
    {
      "cell_type": "code",
      "source": [
        "# 將綁好的rich Menu設定為預設圖文選單(不針對使用者id, 所有人都用的)\n",
        "\n",
        "line_bot_api.set_default_rich_menu(rich_menu_default_id)"
      ],
      "metadata": {
        "id": "cSY6_1faRzFH"
      },
      "execution_count": null,
      "outputs": []
    },
    {
      "cell_type": "markdown",
      "source": [
        "###Follow Event-記錄用戶資訊、發送歡迎訊息"
      ],
      "metadata": {
        "id": "314ykMYdT672"
      }
    },
    {
      "cell_type": "code",
      "source": [
        "@handler.add(FollowEvent)\n",
        "def reply_text_and_get_user_profile(event):\n",
        "    \n",
        "    # 取出消息內User的資料\n",
        "    user_profile = line_bot_api.get_profile(event.source.user_id)\n",
        "        \n",
        "     # 將用戶資訊存在檔案內\n",
        "    with open(\"/content/drive/MyDrive/users.txt\", \"a\") as myfile:\n",
        "        myfile.write(json.dumps(vars(user_profile),sort_keys=True))\n",
        "        myfile.write('\\n')\n",
        "\n",
        "    #line_bot_api.link_rich_menu_to_user(event.source.user_id, rich_menu_id)\n",
        "\n",
        "    # 回覆文字消息與圖片消息\n",
        "    line_bot_api.reply_message(\n",
        "        event.reply_token,\n",
        "        [TextSendMessage('非常感謝您的關注!')]\n",
        "    )"
      ],
      "metadata": {
        "id": "nnZDBfEfUMc4"
      },
      "execution_count": null,
      "outputs": []
    },
    {
      "cell_type": "markdown",
      "source": [
        "###Rich Menu-情境互動連接(暫定Button Template形式進行)"
      ],
      "metadata": {
        "id": "ln5NWf0SWxBK"
      }
    },
    {
      "cell_type": "code",
      "source": [
        "# 建立Button Template\n",
        "\n",
        "story_button1 = TemplateSendMessage(\n",
        "    alt_text=\"Buttons template\",\n",
        "    template=ButtonsTemplate(\n",
        "        title=\"歡迎來到海科館, 接下來請依照提示完成任務, 完成後將能夠獲得神秘小禮物\",\n",
        "        text=\"準備好要開啟海科館大冒險了嗎\",\n",
        "        thumbnail_image_url=\"https://imgur.com/a/3vXe3Jh\",\n",
        "        actions=[\n",
        "            {\"type\":\"message\",\n",
        "            \"label\":\"我準備好了\",\n",
        "            \"text\":\"任務開始!\",\n",
        "            },\n",
        "            {\"type\":\"message\",\n",
        "            \"label\":\"小等一下\",\n",
        "            \"text\":\"等你喔\",\n",
        "            }\n",
        "        ]\n",
        "    )\n",
        ")"
      ],
      "metadata": {
        "id": "1RorEiJlc9Ss"
      },
      "execution_count": null,
      "outputs": []
    },
    {
      "cell_type": "code",
      "source": [
        "hint = \"\\\n",
        "    a@麵包海星\\n\\\n",
        "    b@飯匙鯊\\n\\\n",
        "    c@花園鰻小子\\n\\\n",
        "    d@獅子魚\"\n",
        "\n",
        "story_dict = {\n",
        "    \"script_a1\": \"阿尼是一隻小丑魚，鮮豔的橘色搭配白色美麗的條紋看起來帥氣無比。\\n不過有件事情一直煩惱著他...就是無論他怎麼努力都交不到女朋友QQ\\n聽說今天在智能海洋館裡面有隻美麗的魚也正在尋找自己的伴侶，現在就讓我們來協助阿尼找到真愛吧\",\n",
        "    \"script_a2\": \"一進入館內的第一個區域「潮境之濱」，阿尼發現自己置身美麗的3D投影當中...這時阿尼突然聽到一個低沈的聲音從頭上傳來...\\n哇！原來是大鯨魚在說話！\",\n",
        "    \"script_d1\": \"花園鰻小子：\\n什麼...想不到你這麼厲害，竟然可以找到我...\\n那天我經過海星婆婆的家，聞到一陣陣香味，剛好我的肚子好餓好餓，所以才會偷偷把湯喝掉的，我會親自去和麵包海星婆婆道歉的，真是抱歉！\",\n",
        "    \"script_e1\": \"在阿尼與獅子魚與見面後兩人立刻墜入愛河，從此過著幸福又快樂的生活，阿尼為了感謝您的協助，在此提供一張海科館的八折優惠券作為報答，現在就到販賣區挑一個喜歡的紀念品或是前往互動體驗區展開全新冒險吧！\",\n",
        "    \"task_a\": \"大鯨魚：\\n看你帥氣的外表，你就是阿尼對吧...想要找到女朋友的話你可以問問我們館內的媒人婆「麵包海星」婆婆，什麼...你問我她看起來是什麼樣子嗎？\\n「麵包海星」一般為5隻腕足，但腕足特別粗短，區分不明顯看起來胖胖的就像是菠蘿麵包一樣喔哈哈哈，她就住在接下來的「潮境之魚」區域當中，我相信他會給你許多有用的資訊的！\",\n",
        "    \"task_b\": \"「麵包海星」婆婆：\\n小伙子我正在忙呢！找我有什麼事啊？\\n什麼...你想要找女朋友？正好我知道館內有隻美麗的魚也在尋找伴侶呢！\\n不過...我昨天剛煮好的濃湯被偷喝了，我現在正忙著找出小偷呢！如果你可以幫忙我的話，我就幫你找到女朋友作為回報！\\n現在你有看到旁邊的七公尺超大魚缸嗎，我要你去和「飯匙鯊」警長報案，讓他揪出可惡的小偷！\",\n",
        "    \"task_c\": \"「飯匙鯊」警長：\\n是麵包海星婆婆請你來報案的啊...麵包海星婆婆的濃湯是最好喝的！想不到竟然會發生這樣的事...真是可惡！\\n依現場殘留的沙子看來，小偷應該是某種會躲藏在沙子裡的生物，而要能夠從門縫進入，想必小偷一定是個苗條的傢伙呢！\\n我想小偷應該是走不遠的...也許在接下來的「潮下視界」就可以找他了！\",\n",
        "    \"task_d\": \"麵包海星婆婆：\\n做得好阿尼！花園鰻小子已經來和我道歉過並且答應幫我做一個月的家事來補償！\\n為了回報你的辛苦我就告訴你吧，在「潮水彩繪」區域中的「獅子魚」小姐正在找尋伴侶！\\n獅子魚小姐的外表可是漂亮的喔，美麗的線條斑紋搭配放射狀的胸鰭和背鰭，可是迷倒眾魚呢，不過千萬要小心她可是有毒性的喔！一般人可別離她太近！但我想他會喜歡你這個帥氣又聰明的小帥哥的！\\n現在就去找她吧，和她說你是麵包海星婆婆認證的好魚，至於後續就得看你的表現了，好好加油阿尼！\",\n",
        "    \"hint\": f\"請依據對話中的線索，拍攝正確物種之照片並傳送於對話筐內\\n(若是沒有找到正確魚類的可以再次上傳照片嘗試喔)\\n\\n#現行先用<numstQuestion>@<species>來代替圖片\\nex:\\n{hint}\",\n",
        "    \"麵包海星\": \"麵包海星婆婆有「5隻特別粗短的腕足，看起來胖胖像是菠蘿麵包」請再找找～\",\n",
        "    \"飯匙鯊\": \"飯匙鯊頭部前圓而寬闊，頭與胸鰭非常容易區別，他就在七尺大魚缸中游泳呢！請再找找～\",\n",
        "    \"花園鰻小子\": \"根據線索花園鰻小子小偷是個苗條的傢伙，常常會躲在沙子裡面，而且跟線報得知他的身上有著明顯的黑色斑點，請再找找吧～\",\n",
        "    \"獅子魚\": \"這不是獅子魚小姐啦～\\n獅子魚擁有美麗的線條斑紋搭配放射狀的胸鰭和背鰭，請再找找看吧\",\n",
        "    \"a\": \"麵包海星\",\n",
        "    \"b\": \"飯匙鯊\",\n",
        "    \"c\": \"花園鰻小子\",\n",
        "    \"d\": \"獅子魚\",\n",
        "}"
      ],
      "metadata": {
        "id": "8LLc5qemdmkq"
      },
      "execution_count": null,
      "outputs": []
    },
    {
      "cell_type": "code",
      "source": [
        "'''\n",
        "\n",
        "準備QuickReply的Button\n",
        "\n",
        "\n",
        "'''\n",
        "\n",
        "# 引入相關套件\n",
        "from linebot.models import (\n",
        "    MessageAction, URIAction,\n",
        "    PostbackAction, DatetimePickerAction,\n",
        "    CameraAction, CameraRollAction, LocationAction,\n",
        "    QuickReply, QuickReplyButton\n",
        ")\n",
        "\n",
        "# 創建QuickReplyButton \n",
        "\n",
        "## 點擊後，以用戶身份發送文字消息\n",
        "## MessageAction\n",
        "story_quick_reply_start = QuickReplyButton(\n",
        "    action=PostbackAction(\n",
        "        label=\"故事開始\",\n",
        "        display_text=\"故事開始\",\n",
        "        data=\"start\"\n",
        "    )\n",
        ")\n",
        "story_quick_reply_script_a1 = QuickReplyButton(\n",
        "    action=PostbackAction(\n",
        "        label=\"進入「潮境之濱」\",\n",
        "        display_text=\"進入「潮境之濱」\",\n",
        "        data=\"script_a1\"    \n",
        "    )\n",
        ")\n",
        "story_quick_reply_script_a2 = QuickReplyButton(\n",
        "    action=PostbackAction(\n",
        "        label=\"與大鯨魚對話\",\n",
        "        display_text=\"與大鯨魚對話\", \n",
        "        data=\"script_a2\"\n",
        "    )\n",
        ")\n",
        "story_quick_reply_script_d1 = QuickReplyButton(\n",
        "    action=PostbackAction(\n",
        "        label=\"再訪麵包海星婆婆\",\n",
        "        display_text=\"再訪麵包海星婆婆\", \n",
        "        data=\"script_d1\"\n",
        "    )\n",
        ")\n",
        "story_quick_reply_script_e1 = QuickReplyButton(\n",
        "    action=PostbackAction(\n",
        "        label=\"終於...見到「獅子魚」小姐\",\n",
        "        display_text=\"終於...見到「獅子魚」小姐\", \n",
        "        data=\"script_e1\"\n",
        "    )\n",
        ")\n",
        "story_quick_reply_task_a = QuickReplyButton(\n",
        "    action=PostbackAction(\n",
        "        label=\"進入「潮境之魚」，尋找「麵包海星」婆婆\",\n",
        "        display_text=\"進入「潮境之魚」，尋找「麵包海星」婆婆\",\n",
        "        data=\"hint\"\n",
        "    )\n",
        ")\n",
        "story_quick_reply_task_b = QuickReplyButton(\n",
        "    action=PostbackAction(\n",
        "        label=\"尋找「飯匙鯊」警長\",\n",
        "        display_text=\"尋找「飯匙鯊」警長\",\n",
        "        data=\"hint\"\n",
        "    )\n",
        ")\n",
        "story_quick_reply_task_c = QuickReplyButton(\n",
        "    action=PostbackAction(\n",
        "        label=\"進入「潮下視界」，尋找小偷\", \n",
        "        display_text=\"進入「潮下視界」，尋找小偷\",\n",
        "        data=\"hint\"\n",
        "    )\n",
        ")\n",
        "story_quick_reply_task_d = QuickReplyButton(\n",
        "    action=PostbackAction(\n",
        "        label=\"進入「潮水彩繪」」，尋找「獅子魚」小姐\", \n",
        "        display_text=\"進入「潮水彩繪」」，尋找「獅子魚」小姐\",\n",
        "        data=\"hint\"\n",
        "    )\n",
        ")\n",
        "\n",
        "# 相機 & 相簿\n",
        "cameraQuickReplyButton = QuickReplyButton(\n",
        "    action=URIAction(\n",
        "        label=\"打開相機\",\n",
        "        uri=\"https://line.me/R/nv/camera/\"\n",
        "    )\n",
        ")\n",
        "cameraRollQRB = QuickReplyButton(\n",
        "    action=CameraRollAction(label=\"選擇照片\")\n",
        ")"
      ],
      "metadata": {
        "id": "TMStjeLPa7xT"
      },
      "execution_count": null,
      "outputs": []
    },
    {
      "cell_type": "code",
      "source": [
        "# 建立觸發回覆\n",
        "\n",
        "@handler.add(MessageEvent, message=TextMessage)\n",
        "def handle_message(event):\n",
        "    user_profile = line_bot_api.get_profile(event.source.user_id)\n",
        "    if event.message.text == \"開啟情境互動任務\":\n",
        "        line_bot_api.reply_message(event.reply_token, \n",
        "                                story_button1)\n",
        "    if event.message.text == \"任務開始!\":\n",
        "        flex_message = TextSendMessage(\n",
        "            text=\"請點擊下方泡泡提示進行故事\",\n",
        "            quick_reply=QuickReply(\n",
        "                items=\n",
        "                [\n",
        "                    story_quick_reply_start\n",
        "                ]\n",
        "            )\n",
        "        )\n",
        "        line_bot_api.reply_message(\n",
        "            event.reply_token,\n",
        "            [\n",
        "                flex_message\n",
        "            ]\n",
        "        )\n",
        "    if event.message.text[1] == \"@\":\n",
        "        info = event.message.text.split(\"@\")\n",
        "        if info[0] == \"a\" and info[1] == \"麵包海星\":\n",
        "            flex_message = TextSendMessage(\n",
        "            text=story_dict[\"task_b\"],\n",
        "            quick_reply=QuickReply(\n",
        "                items=[\n",
        "                story_quick_reply_task_b\n",
        "                ]\n",
        "            )\n",
        "            )\n",
        "            line_bot_api.reply_message(\n",
        "                event.reply_token,\n",
        "                [\n",
        "                    flex_message\n",
        "                ]\n",
        "            )\n",
        "        elif info[0] == \"b\" and info[1] == \"飯匙鯊\":\n",
        "            flex_message = TextSendMessage(\n",
        "            text=story_dict[\"task_c\"],\n",
        "            quick_reply=QuickReply(\n",
        "                items=[\n",
        "                story_quick_reply_task_c\n",
        "                ]\n",
        "            )\n",
        "            )\n",
        "            line_bot_api.reply_message(\n",
        "                event.reply_token,\n",
        "                [\n",
        "                    flex_message\n",
        "                ]\n",
        "            )\n",
        "        elif info[0] == \"c\" and info[1] == \"花園鰻小子\":\n",
        "            flex_message = TextSendMessage(\n",
        "            text=story_dict[\"script_d1\"],\n",
        "            quick_reply=QuickReply(\n",
        "                items=[\n",
        "                story_quick_reply_script_d1\n",
        "                ]\n",
        "            )\n",
        "            )\n",
        "            line_bot_api.reply_message(\n",
        "                event.reply_token,\n",
        "                [\n",
        "                    flex_message\n",
        "                ]\n",
        "            )\n",
        "        elif info[0] == \"d\" and info[1] == \"獅子魚\":\n",
        "            flex_message = TextSendMessage(\n",
        "            text=\"獅子魚小姐: 你找到我啦～\",\n",
        "            quick_reply=QuickReply(\n",
        "                items=[\n",
        "                story_quick_reply_script_e1\n",
        "                ]\n",
        "            )\n",
        "            )\n",
        "            line_bot_api.reply_message(\n",
        "                event.reply_token,\n",
        "                [\n",
        "                    flex_message\n",
        "                ]\n",
        "            )\n",
        "        else:\n",
        "            line_bot_api.reply_message(\n",
        "                event.reply_token,\n",
        "                [TextSendMessage(f\"這不是{story_dict[info[0]]}喔，\" + story_dict[story_dict[info[0]]])]\n",
        "            )\n",
        "            "
      ],
      "metadata": {
        "id": "iUXDKP6aXJ1x"
      },
      "execution_count": null,
      "outputs": []
    },
    {
      "cell_type": "code",
      "source": [
        "# '''\n",
        "\n",
        "# 以QuickReply封裝該些QuickReply Button\n",
        "\n",
        "# '''\n",
        "# ## 設計QuickReplyButton的List\n",
        "# quickReplyList = QuickReply(\n",
        "#     items = [textQuickReplyButton, cameraQuickReplyButton, cameraRollQRB, postbackQRB]\n",
        "# )"
      ],
      "metadata": {
        "id": "lCM1Vk3EE8jv"
      },
      "execution_count": null,
      "outputs": []
    },
    {
      "cell_type": "code",
      "source": [
        "'''\n",
        "\n",
        "製作TextSendMessage，並將剛封裝的QuickReply放入\n",
        "\n",
        "'''\n",
        "## 將quickReplyList 塞入TextSendMessage 中 \n",
        "# from linebot.models import (\n",
        "#     TextSendMessage,\n",
        "# )\n",
        "# quick_reply_text_send_message = TextSendMessage(text='發送問題給用戶，請用戶回答', quick_reply=quickReplyList)"
      ],
      "metadata": {
        "id": "HYePdZETE-0B",
        "colab": {
          "base_uri": "https://localhost:8080/",
          "height": 55
        },
        "outputId": "bb3a78da-8474-4123-85bb-a783db38ec00"
      },
      "execution_count": null,
      "outputs": [
        {
          "output_type": "execute_result",
          "data": {
            "text/plain": [
              "'\\n\\n製作TextSendMessage，並將剛封裝的QuickReply放入\\n\\n'"
            ],
            "application/vnd.google.colaboratory.intrinsic+json": {
              "type": "string"
            }
          },
          "metadata": {},
          "execution_count": 338
        },
        {
          "output_type": "execute_result",
          "data": {
            "text/plain": [
              "'\\n\\n製作TextSendMessage，並將剛封裝的QuickReply放入\\n\\n'"
            ],
            "application/vnd.google.colaboratory.intrinsic+json": {
              "type": "string"
            }
          },
          "metadata": {},
          "execution_count": 355
        }
      ]
    },
    {
      "cell_type": "markdown",
      "source": [
        "###Rich Menu-其他功能Quickreply Button建立"
      ],
      "metadata": {
        "id": "WOVkFx4uUqIp"
      }
    },
    {
      "cell_type": "code",
      "source": [
        "@handler.add(PostbackEvent)\n",
        "def handle_postback_message(event):\n",
        "    # user_profile = line_bot_api.get_profile(event.source.user_id)\n",
        "    if event.postback.data == 'rich_menu_others':\n",
        "        flex_message = TextSendMessage(\n",
        "            text='最新活動及魚種介紹',\n",
        "            quick_reply=QuickReply(\n",
        "                items=[\n",
        "                QuickReplyButton(action=MessageAction(label=\"其他活動\", text=\"其他活動\")),\n",
        "                QuickReplyButton(action=MessageAction(label=\"魚種介紹\", text=\"魚種介紹\")),\n",
        "                QuickReplyButton(action=URIAction(\n",
        "                    label='進入官網', \n",
        "                    uri='https://www.nmmst.gov.tw/chhtml/'\n",
        "                ))]\n",
        "            )\n",
        "        )\n",
        "        line_bot_api.reply_message(\n",
        "            event.reply_token,\n",
        "            [\n",
        "                flex_message\n",
        "            ]\n",
        "        )\n",
        "    elif event.postback.data == \"start\":\n",
        "        flex_message = TextSendMessage(\n",
        "            text=story_dict[\"script_a1\"],\n",
        "            quick_reply=QuickReply(\n",
        "                items=[\n",
        "                story_quick_reply_script_a1\n",
        "                ]\n",
        "            )\n",
        "        )\n",
        "        line_bot_api.reply_message(\n",
        "            event.reply_token,\n",
        "            [\n",
        "                flex_message\n",
        "            ]\n",
        "        )\n",
        "    elif event.postback.data == \"script_a1\":\n",
        "        flex_message = TextSendMessage(\n",
        "            text=story_dict[\"script_a2\"],\n",
        "            quick_reply=QuickReply(\n",
        "                items=[\n",
        "                story_quick_reply_script_a2\n",
        "                ]\n",
        "            )\n",
        "        )\n",
        "        line_bot_api.reply_message(\n",
        "            event.reply_token,\n",
        "            [\n",
        "                flex_message\n",
        "            ]\n",
        "        )\n",
        "    elif event.postback.data == \"script_a2\":\n",
        "        flex_message = TextSendMessage(\n",
        "            text=story_dict[\"task_a\"],\n",
        "            quick_reply=QuickReply(\n",
        "                items=[\n",
        "                story_quick_reply_task_a\n",
        "                ]\n",
        "            )\n",
        "        )\n",
        "        line_bot_api.reply_message(\n",
        "            event.reply_token,\n",
        "            [\n",
        "                flex_message\n",
        "            ]\n",
        "        )\n",
        "    elif event.postback.data == \"script_d1\":\n",
        "        flex_message = TextSendMessage(\n",
        "            text=story_dict[\"task_d\"],\n",
        "            quick_reply=QuickReply(\n",
        "                items=[\n",
        "                story_quick_reply_task_d\n",
        "                ]\n",
        "            )\n",
        "        )\n",
        "        line_bot_api.reply_message(\n",
        "            event.reply_token,\n",
        "            [\n",
        "                flex_message\n",
        "            ]\n",
        "        )\n",
        "    elif event.postback.data == \"script_e1\":\n",
        "        line_bot_api.reply_message(\n",
        "            event.reply_token,\n",
        "            [\n",
        "                TextSendMessage(story_dict[\"script_e1\"])\n",
        "            ]\n",
        "        )\n",
        "    elif event.postback.data == \"hint\":\n",
        "        flex_message = TextSendMessage(\n",
        "            text=story_dict[\"hint\"],\n",
        "            quick_reply=QuickReply(\n",
        "                items=[\n",
        "                cameraQuickReplyButton,\n",
        "                cameraRollQRB\n",
        "                ]\n",
        "            )\n",
        "        )\n",
        "        line_bot_api.reply_message(\n",
        "            event.reply_token,\n",
        "            [\n",
        "                flex_message\n",
        "            ]\n",
        "        )"
      ],
      "metadata": {
        "id": "r6SIUinNURRw"
      },
      "execution_count": null,
      "outputs": []
    },
    {
      "cell_type": "code",
      "source": [
        "app.run()"
      ],
      "metadata": {
        "id": "M2OVoos2jxOI"
      },
      "execution_count": null,
      "outputs": []
    }
  ]
}